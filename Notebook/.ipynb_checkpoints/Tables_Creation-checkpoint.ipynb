{
 "cells": [
  {
   "cell_type": "code",
   "execution_count": 61,
   "id": "1565590f-9479-4acb-8246-1ea3384c9b77",
   "metadata": {},
   "outputs": [],
   "source": [
    "import pandas as pd\n",
    "import mysql.connector\n",
    "import os\n",
    "from sqlalchemy import create_engine\n",
    "from dotenv import load_dotenv"
   ]
  },
  {
   "cell_type": "code",
   "execution_count": 62,
   "id": "b65015f9-2944-4e22-8928-e1703f4f200b",
   "metadata": {},
   "outputs": [],
   "source": [
    "load_dotenv()\n",
    "\n",
    "password = os.getenv('PASSWORD')\n",
    "username = os.getenv('USERNAME')\n",
    "host = os.getenv('HOST')\n",
    "port = os.getenv('PORT')\n",
    "netflix_csv = os.getenv('NETFLIX_DIR')\n",
    "amazon_csv = os.getenv('AMAZON_DIR')\n",
    "netflix_file = os.getenv('NETFLIX_FILE')\n",
    "amazon_file = os.getenv('AMAZON_FILE')\n",
    "\n",
    "df_amazon = pd.read_csv(amazon_csv+amazon_file)\n",
    "df_netflix = pd.read_csv(netflix_csv+netflix_file)"
   ]
  },
  {
   "cell_type": "code",
   "execution_count": 63,
   "id": "fbf5275a-ecee-4d54-9f0a-bb91b5ebbe4a",
   "metadata": {},
   "outputs": [],
   "source": [
    "engine = create_engine('mysql+mysqlconnector://' + username + ':' + password + '@' + host + ':' + port + '/shows')"
   ]
  },
  {
   "cell_type": "code",
   "execution_count": 21,
   "id": "db7dc676-132c-47bd-b3cc-bde4a8f30be7",
   "metadata": {},
   "outputs": [],
   "source": [
    "joined_df_cast = pd.merge(df_amazon, df_netflix, on='cast', how='outer')\n",
    "joined_df_director = pd.merge(df_amazon, df_netflix, on='director', how='outer')\n",
    "joined_df_type = pd.merge(df_amazon, df_netflix, on='type', how='outer')"
   ]
  },
  {
   "cell_type": "code",
   "execution_count": 11,
   "id": "f38c7359-c596-4304-803f-f847d011cac9",
   "metadata": {
    "scrolled": true
   },
   "outputs": [],
   "source": [
    "joined_df_cast['cast'] = joined_df_cast['cast'].apply(lambda x: ast.literal_eval(x) if isinstance(x, str) and x.startswith('[') else x)\n",
    "\n",
    "joined_df_cast['cast'] = joined_df_cast['cast'].apply(lambda x: x if isinstance(x, list) else str(x).split(','))\n",
    "exploded_df_all = joined_df_cast.explode('cast')\n",
    "\n",
    "exploded_df_all['cast'] = exploded_df_all['cast'].str.strip()\n",
    "\n",
    "exploded_df_all = exploded_df_all.drop_duplicates(subset=['cast'])\n",
    "\n",
    "exploded_df_all = exploded_df_all.reset_index(drop=True)\n",
    "\n",
    "new_df_cast = pd.DataFrame({ \n",
    "    'Name': exploded_df_all['cast']\n",
    "})"
   ]
  },
  {
   "cell_type": "code",
   "execution_count": 12,
   "id": "a8e79afa-48dc-4b0a-aba7-c184d4919416",
   "metadata": {},
   "outputs": [
    {
     "data": {
      "text/plain": [
       "60762"
      ]
     },
     "execution_count": 12,
     "metadata": {},
     "output_type": "execute_result"
    }
   ],
   "source": [
    "#new_df_cast.to_sql('casting', con=engine, if_exists='append', index=False)"
   ]
  },
  {
   "cell_type": "code",
   "execution_count": 13,
   "id": "16d4fd25-2b26-4601-82f0-6cef6ff6dc70",
   "metadata": {},
   "outputs": [],
   "source": [
    "joined_df_director['director'] = joined_df_director['director'].apply(lambda x: ast.literal_eval(x) if isinstance(x, str) and x.startswith('[') else x)\n",
    "\n",
    "joined_df_director['director'] = joined_df_director['director'].apply(lambda x: x if isinstance(x, list) else str(x).split(','))\n",
    "exploded_df_all = joined_df_director.explode('director')\n",
    "\n",
    "exploded_df_all['director'] = exploded_df_all['director'].str.strip()\n",
    "\n",
    "exploded_df_all = exploded_df_all.drop_duplicates(subset=['director'])\n",
    "\n",
    "exploded_df_all = exploded_df_all.reset_index(drop=True)\n",
    "\n",
    "new_df_director = pd.DataFrame({\n",
    "    'Name': exploded_df_all['director']\n",
    "})\n",
    "\n",
    "new_df_director = new_df_director[new_df_director['Name'].apply(lambda x: len(x) if isinstance(x, str) else 0) <= 255]"
   ]
  },
  {
   "cell_type": "code",
   "execution_count": 14,
   "id": "e1df320d-4846-4e48-9f78-7943863b3cb6",
   "metadata": {},
   "outputs": [
    {
     "data": {
      "text/plain": [
       "10488"
      ]
     },
     "execution_count": 14,
     "metadata": {},
     "output_type": "execute_result"
    }
   ],
   "source": [
    "#new_df_director.to_sql('director', con=engine, if_exists='append', index=False)"
   ]
  },
  {
   "cell_type": "code",
   "execution_count": 17,
   "id": "fe5093d8-38ad-4f7f-9224-a35ddab65cb4",
   "metadata": {},
   "outputs": [],
   "source": [
    "joined_df_type = joined_df_type.drop_duplicates(subset=['type'])\n",
    "\n",
    "joined_df_type.head()\n",
    "\n",
    "joined_df_type = joined_df_type.reset_index(drop=True)\n",
    "\n",
    "new_df_type = pd.DataFrame({ \n",
    "    'Type': joined_df_type['type']\n",
    "})"
   ]
  },
  {
   "cell_type": "code",
   "execution_count": 18,
   "id": "c8788bd2-b674-4e37-90fe-0a4fb85c8c4b",
   "metadata": {},
   "outputs": [
    {
     "data": {
      "text/plain": [
       "2"
      ]
     },
     "execution_count": 18,
     "metadata": {},
     "output_type": "execute_result"
    }
   ],
   "source": [
    "#new_df_type.to_sql('category', con=engine, if_exists='append', index=False)"
   ]
  },
  {
   "cell_type": "code",
   "execution_count": null,
   "id": "bcb733b6-b395-4831-8b21-f677d627a380",
   "metadata": {},
   "outputs": [],
   "source": [
    "new_df_show_amazon = pd.DataFrame({ \n",
    "    'Title': df_amazon['title'],\n",
    "    'Country': df_amazon['country'],\n",
    "    'Release_Year': df_amazon['release_year'],\n",
    "    'Duration': df_amazon['duration'],\n",
    "    'Rating': df_amazon['rating']\n",
    "})\n",
    "\n",
    "new_df_show_amazon.head()"
   ]
  },
  {
   "cell_type": "code",
   "execution_count": null,
   "id": "92e26417-b8d2-46e7-878f-dccc47e9f2bf",
   "metadata": {},
   "outputs": [],
   "source": [
    "new_df_show_netflix = pd.DataFrame({ \n",
    "    'Title': df_netflix['title'],\n",
    "    'Country': df_netflix['country'],\n",
    "    'Release_Year': df_netflix['release_year'],\n",
    "    'Duration': df_netflix['duration'],\n",
    "    'Rating': df_netflix['rating']\n",
    "})\n",
    "\n",
    "new_df_show_netflix.head()"
   ]
  },
  {
   "cell_type": "code",
   "execution_count": 107,
   "id": "de838a27-055f-478e-acf7-e5b375b6e77a",
   "metadata": {},
   "outputs": [
    {
     "data": {
      "text/plain": [
       "9668"
      ]
     },
     "execution_count": 107,
     "metadata": {},
     "output_type": "execute_result"
    }
   ],
   "source": [
    "#new_df_show_amazon.to_sql('shows', con=engine, if_exists='append', index=False)"
   ]
  },
  {
   "cell_type": "code",
   "execution_count": 108,
   "id": "0c688cc2-bfff-4d38-8f44-0530b050a767",
   "metadata": {},
   "outputs": [
    {
     "data": {
      "text/plain": [
       "8807"
      ]
     },
     "execution_count": 108,
     "metadata": {},
     "output_type": "execute_result"
    }
   ],
   "source": [
    "#new_df_show_netflix.to_sql('shows', con=engine, if_exists='append', index=False)"
   ]
  },
  {
   "cell_type": "code",
   "execution_count": 131,
   "id": "dca4668a-6300-455f-ae5f-246351618abd",
   "metadata": {},
   "outputs": [],
   "source": [
    "shows_df_amazon = df_amazon[['title', 'type', 'cast', 'director']]"
   ]
  },
  {
   "cell_type": "code",
   "execution_count": 132,
   "id": "6752236e-9f70-46c8-9577-9f36acb594ff",
   "metadata": {},
   "outputs": [],
   "source": [
    "type_mapping_df = pd.read_sql('SELECT ID, Type FROM category', engine)\n",
    "casting_mapping_df = pd.read_sql('SELECT ID, Name FROM casting', engine)\n",
    "director_mapping_df = pd.read_sql('SELECT ID, Name FROM director', engine)\n",
    "show_mapping_df = pd.read_sql('SELECT ID, Title FROM shows', engine)"
   ]
  },
  {
   "cell_type": "code",
   "execution_count": 133,
   "id": "b5258831-b25a-49a1-b512-1a016cde656b",
   "metadata": {},
   "outputs": [],
   "source": [
    "shows_df_amazon.loc[:, 'cast'] = shows_df_amazon['cast'].str.split(',')\n",
    "shows_df_amazon = shows_df_amazon.explode('cast').reset_index(drop=True)\n",
    "shows_df_amazon.loc[:, 'cast'] = shows_df_amazon['cast'].str.strip()"
   ]
  },
  {
   "cell_type": "code",
   "execution_count": 134,
   "id": "488be556-b192-46c7-a032-014c8b675417",
   "metadata": {},
   "outputs": [],
   "source": [
    "casting_mapping = dict(zip(casting_mapping_df.Name, casting_mapping_df.ID))\n",
    "shows_df_amazon['ID_Cast'] = shows_df_amazon['cast'].map(casting_mapping)\n",
    "\n",
    "shows_df_amazon = shows_df_amazon.dropna(subset=['ID_Cast'])\n",
    "shows_df_amazon['ID_Cast'] = shows_df_amazon['ID_Cast'].astype(int)"
   ]
  },
  {
   "cell_type": "code",
   "execution_count": 135,
   "id": "160af36c-4315-4a17-a820-c3ed41e7e58c",
   "metadata": {
    "scrolled": true
   },
   "outputs": [],
   "source": [
    "type_mapping = dict(zip(type_mapping_df.Type, type_mapping_df.ID))\n",
    "shows_df_amazon['ID_Type'] = shows_df_amazon['type'].map(type_mapping)"
   ]
  },
  {
   "cell_type": "code",
   "execution_count": 136,
   "id": "2c8b7ea6-5f68-4e53-a95e-c9c84e2307ca",
   "metadata": {},
   "outputs": [],
   "source": [
    "shows_df_amazon['director'] = shows_df_amazon['director'].str.split(',')\n",
    "shows_df_amazon = shows_df_amazon.explode('director').reset_index(drop=True)"
   ]
  },
  {
   "cell_type": "code",
   "execution_count": 137,
   "id": "95e99148-0c4e-423e-8ff5-0add2522b49a",
   "metadata": {},
   "outputs": [],
   "source": [
    "director_mapping = dict(zip(director_mapping_df.Name, director_mapping_df.ID))\n",
    "shows_df_amazon['ID_Director'] = shows_df_amazon['director'].map(director_mapping)\n",
    "\n",
    "shows_df_amazon = shows_df_amazon.dropna(subset=['ID_Director'])\n",
    "shows_df_amazon['ID_Director'] = shows_df_amazon['ID_Director'].astype(int)"
   ]
  },
  {
   "cell_type": "code",
   "execution_count": 138,
   "id": "fbd29716-0c30-4ea3-8aea-fec969fd9eb5",
   "metadata": {},
   "outputs": [],
   "source": [
    "show_mapping = dict(zip(show_mapping_df.Title, show_mapping_df.ID))\n",
    "shows_df_amazon['ID_Show'] = shows_df_amazon['title'].map(show_mapping)\n",
    "shows_df_amazon['ID_Show'] = shows_df_amazon['ID_Show'].astype(int)"
   ]
  },
  {
   "cell_type": "code",
   "execution_count": null,
   "id": "7a12d3ba-bf07-4934-a7dc-cf9f62e8e25e",
   "metadata": {},
   "outputs": [],
   "source": [
    "shows_df_amazon['ID_Platform'] = 1"
   ]
  },
  {
   "cell_type": "code",
   "execution_count": 141,
   "id": "f341bf9e-cb73-4335-8d53-a018a9db1480",
   "metadata": {},
   "outputs": [],
   "source": [
    "shows_df_amazon = shows_df_amazon.drop(['title', 'type', 'cast', 'director'], axis=1)"
   ]
  },
  {
   "cell_type": "code",
   "execution_count": null,
   "id": "d2377a80-f54e-4126-b47c-80ebeba0abaf",
   "metadata": {},
   "outputs": [],
   "source": [
    "shows_df_amazon.head()"
   ]
  },
  {
   "cell_type": "code",
   "execution_count": 143,
   "id": "1879346e-fade-47e0-90b8-f825066f9038",
   "metadata": {},
   "outputs": [
    {
     "data": {
      "text/plain": [
       "37440"
      ]
     },
     "execution_count": 143,
     "metadata": {},
     "output_type": "execute_result"
    }
   ],
   "source": [
    "#shows_df_amazon.to_sql('full_show', con=engine, if_exists='append', index=False)"
   ]
  },
  {
   "cell_type": "code",
   "execution_count": 144,
   "id": "2d3d4ab5-aae4-483e-aff3-ce822a7d1e09",
   "metadata": {},
   "outputs": [],
   "source": [
    "shows_df_netflix = df_netflix[['title', 'type', 'cast', 'director']]"
   ]
  },
  {
   "cell_type": "code",
   "execution_count": 145,
   "id": "5ce6c8bf-aee7-4cc9-8bc2-9317fcd2b70d",
   "metadata": {},
   "outputs": [],
   "source": [
    "type_mapping_df = pd.read_sql('SELECT ID, Type FROM category', engine)\n",
    "casting_mapping_df = pd.read_sql('SELECT ID, Name FROM casting', engine)\n",
    "director_mapping_df = pd.read_sql('SELECT ID, Name FROM director', engine)\n",
    "show_mapping_df = pd.read_sql('SELECT ID, Title FROM shows', engine)"
   ]
  },
  {
   "cell_type": "code",
   "execution_count": 146,
   "id": "f1921bff-c323-49be-8d33-be7f78aaa9d1",
   "metadata": {},
   "outputs": [],
   "source": [
    "shows_df_netflix.loc[:, 'cast'] = shows_df_netflix['cast'].str.split(',')\n",
    "shows_df_netflix = shows_df_netflix.explode('cast').reset_index(drop=True)\n",
    "shows_df_netflix.loc[:, 'cast'] = shows_df_netflix['cast'].str.strip()"
   ]
  },
  {
   "cell_type": "code",
   "execution_count": 147,
   "id": "d6a06363-f115-46aa-a971-b38d73a86b35",
   "metadata": {},
   "outputs": [],
   "source": [
    "casting_mapping = dict(zip(casting_mapping_df.Name, casting_mapping_df.ID))\n",
    "shows_df_netflix['ID_Cast'] = shows_df_netflix['cast'].map(casting_mapping)\n",
    "\n",
    "shows_df_netflix = shows_df_netflix.dropna(subset=['ID_Cast'])\n",
    "shows_df_netflix['ID_Cast'] = shows_df_netflix['ID_Cast'].astype(int)"
   ]
  },
  {
   "cell_type": "code",
   "execution_count": 148,
   "id": "75224b18-55be-4796-a47c-e603c3e9f584",
   "metadata": {},
   "outputs": [],
   "source": [
    "type_mapping = dict(zip(type_mapping_df.Type, type_mapping_df.ID))\n",
    "shows_df_netflix['ID_Type'] = shows_df_netflix['type'].map(type_mapping)"
   ]
  },
  {
   "cell_type": "code",
   "execution_count": 149,
   "id": "f572169a-a1bc-48d3-a775-c96ee10dbf7f",
   "metadata": {},
   "outputs": [],
   "source": [
    "shows_df_netflix['director'] = shows_df_netflix['director'].str.split(',')\n",
    "shows_df_netflix = shows_df_netflix.explode('director').reset_index(drop=True)"
   ]
  },
  {
   "cell_type": "code",
   "execution_count": 150,
   "id": "530fa998-e24c-4b5d-b82d-08c805d6dbfb",
   "metadata": {},
   "outputs": [],
   "source": [
    "director_mapping = dict(zip(director_mapping_df.Name, director_mapping_df.ID))\n",
    "shows_df_netflix['ID_Director'] = shows_df_netflix['director'].map(director_mapping)\n",
    "\n",
    "shows_df_netflix = shows_df_netflix.dropna(subset=['ID_Director'])\n",
    "shows_df_netflix['ID_Director'] = shows_df_netflix['ID_Director'].astype(int)"
   ]
  },
  {
   "cell_type": "code",
   "execution_count": 151,
   "id": "221463c5-3ee7-41a1-9cc3-70f972a25d48",
   "metadata": {},
   "outputs": [],
   "source": [
    "show_mapping = dict(zip(show_mapping_df.Title, show_mapping_df.ID))\n",
    "shows_df_netflix['ID_Show'] = shows_df_netflix['title'].map(show_mapping)\n",
    "shows_df_netflix['ID_Show'] = shows_df_netflix['ID_Show'].astype(int)"
   ]
  },
  {
   "cell_type": "code",
   "execution_count": 152,
   "id": "ac2a780f-0bff-473a-92c6-06cbe2cfcde0",
   "metadata": {},
   "outputs": [],
   "source": [
    "shows_df_netflix['ID_Platform'] = 2"
   ]
  },
  {
   "cell_type": "code",
   "execution_count": 153,
   "id": "ab2e4b2b-7228-4fd7-bbe8-67ec346fdd47",
   "metadata": {},
   "outputs": [],
   "source": [
    "shows_df_netflix = shows_df_netflix.drop(['title', 'type', 'cast', 'director'], axis=1)"
   ]
  },
  {
   "cell_type": "code",
   "execution_count": 154,
   "id": "7710c841-9463-4698-a7bf-cad686bc6bb3",
   "metadata": {},
   "outputs": [
    {
     "data": {
      "text/html": [
       "<div>\n",
       "<style scoped>\n",
       "    .dataframe tbody tr th:only-of-type {\n",
       "        vertical-align: middle;\n",
       "    }\n",
       "\n",
       "    .dataframe tbody tr th {\n",
       "        vertical-align: top;\n",
       "    }\n",
       "\n",
       "    .dataframe thead th {\n",
       "        text-align: right;\n",
       "    }\n",
       "</style>\n",
       "<table border=\"1\" class=\"dataframe\">\n",
       "  <thead>\n",
       "    <tr style=\"text-align: right;\">\n",
       "      <th></th>\n",
       "      <th>ID_Cast</th>\n",
       "      <th>ID_Type</th>\n",
       "      <th>ID_Director</th>\n",
       "      <th>ID_Show</th>\n",
       "      <th>ID_Platform</th>\n",
       "    </tr>\n",
       "  </thead>\n",
       "  <tbody>\n",
       "    <tr>\n",
       "      <th>19</th>\n",
       "      <td>52090</td>\n",
       "      <td>2</td>\n",
       "      <td>5142</td>\n",
       "      <td>9671</td>\n",
       "      <td>2</td>\n",
       "    </tr>\n",
       "    <tr>\n",
       "      <th>20</th>\n",
       "      <td>52103</td>\n",
       "      <td>2</td>\n",
       "      <td>5142</td>\n",
       "      <td>9671</td>\n",
       "      <td>2</td>\n",
       "    </tr>\n",
       "    <tr>\n",
       "      <th>21</th>\n",
       "      <td>46517</td>\n",
       "      <td>2</td>\n",
       "      <td>5142</td>\n",
       "      <td>9671</td>\n",
       "      <td>2</td>\n",
       "    </tr>\n",
       "    <tr>\n",
       "      <th>22</th>\n",
       "      <td>52104</td>\n",
       "      <td>2</td>\n",
       "      <td>5142</td>\n",
       "      <td>9671</td>\n",
       "      <td>2</td>\n",
       "    </tr>\n",
       "    <tr>\n",
       "      <th>23</th>\n",
       "      <td>52092</td>\n",
       "      <td>2</td>\n",
       "      <td>5142</td>\n",
       "      <td>9671</td>\n",
       "      <td>2</td>\n",
       "    </tr>\n",
       "  </tbody>\n",
       "</table>\n",
       "</div>"
      ],
      "text/plain": [
       "    ID_Cast  ID_Type  ID_Director  ID_Show  ID_Platform\n",
       "19    52090        2         5142     9671            2\n",
       "20    52103        2         5142     9671            2\n",
       "21    46517        2         5142     9671            2\n",
       "22    52104        2         5142     9671            2\n",
       "23    52092        2         5142     9671            2"
      ]
     },
     "execution_count": 154,
     "metadata": {},
     "output_type": "execute_result"
    }
   ],
   "source": [
    "shows_df_netflix.head()"
   ]
  },
  {
   "cell_type": "code",
   "execution_count": 155,
   "id": "6b3e9f86-83dd-444d-9551-c9463ada7f11",
   "metadata": {},
   "outputs": [
    {
     "data": {
      "text/plain": [
       "45465"
      ]
     },
     "execution_count": 155,
     "metadata": {},
     "output_type": "execute_result"
    }
   ],
   "source": [
    "#shows_df_netflix.to_sql('full_show', con=engine, if_exists='append', index=False)"
   ]
  }
 ],
 "metadata": {
  "kernelspec": {
   "display_name": "Myproject",
   "language": "python",
   "name": "myproject"
  },
  "language_info": {
   "codemirror_mode": {
    "name": "ipython",
    "version": 3
   },
   "file_extension": ".py",
   "mimetype": "text/x-python",
   "name": "python",
   "nbconvert_exporter": "python",
   "pygments_lexer": "ipython3",
   "version": "3.11.5"
  }
 },
 "nbformat": 4,
 "nbformat_minor": 5
}
